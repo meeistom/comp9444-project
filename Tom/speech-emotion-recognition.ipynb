{
 "cells": [
  {
   "cell_type": "markdown",
   "id": "b277ee55-6f56-45fc-b635-1bf676fb19f4",
   "metadata": {},
   "source": [
    "# SPEECH EMOTION RECOGNITION"
   ]
  },
  {
   "cell_type": "markdown",
   "id": "49e170a9-551b-402f-93fb-bc337a7440d0",
   "metadata": {},
   "source": [
    "## Introduction\n",
    "In this project, the purpose is to train a neural network to recognize emotion in english human speech.\n",
    "\n",
    "**Speech Emotion Recognition (SER)** will be defined to be the act of teaching a neural network to recognize and identify emotions, from a given number of emotions, found in english auditory phrases. The motivation is to mimic how humans can intepret additional meaning in phrases which is not always reflected in the definition of the words in that sentence."
   ]
  },
  {
   "cell_type": "code",
   "execution_count": 1,
   "id": "01989070",
   "metadata": {},
   "outputs": [
    {
     "name": "stdout",
     "output_type": "stream",
     "text": [
      "imports somewhere here\n"
     ]
    }
   ],
   "source": [
    "print('imports somewhere here')"
   ]
  },
  {
   "cell_type": "markdown",
   "id": "4cd9e0ca-402c-451c-af75-faca6273b69b",
   "metadata": {},
   "source": [
    "## Datasets\n",
    "The main dataset that will be used throughtout this project is the dataset labelled **Speech Emotion Recognition (en)** compiled by **Dmitry Babko** which can be found [here](https://www.kaggle.com/datasets/dmitrybabko/speech-emotion-recognition-en) on **[kaggle](https://www.kaggle.com/)**.\n",
    "It is a combination of four popular datasets which are labelled **Crema**, **Ravdess**, **Savee** and **Tess**. They include multiple auditory phrases which are spoken in the different emotions and are the .wav file format."
   ]
  },
  {
   "cell_type": "code",
   "execution_count": 2,
   "id": "707e9f01",
   "metadata": {},
   "outputs": [
    {
     "name": "stdout",
     "output_type": "stream",
     "text": [
      "retrieve data here\n"
     ]
    }
   ],
   "source": [
    "print('retrieve data here')"
   ]
  },
  {
   "cell_type": "markdown",
   "id": "fd670c6f-3ade-45b6-ba7f-6a400042a12e",
   "metadata": {},
   "source": [
    "## Exploratory Analysis of Data or RL Tasks (3 marks):\n",
    "Provide details about the properties, number of classes, pre-processing, challenging aspects, etc. of the data (or the RL task).\n",
    "\n",
    "## Exploratory Analysis of Data\n",
    "\n",
    "Below are listed the 8 emotions which can be found in the dataset. <-- MAKE THESE SPECIFIC TO EACH FOLDER IN THE DATASET\n",
    "1. Angry\n",
    "2. Calm\n",
    "3. Disgust\n",
    "4. Fear\n",
    "5. Happy\n",
    "6. Neutral\n",
    "7. Sad\n",
    "8. Surprise"
   ]
  },
  {
   "cell_type": "code",
   "execution_count": 3,
   "id": "1b16d8cd",
   "metadata": {},
   "outputs": [
    {
     "name": "stdout",
     "output_type": "stream",
     "text": [
      "do preprocessing here\n"
     ]
    }
   ],
   "source": [
    "print('do preprocessing here')"
   ]
  },
  {
   "cell_type": "markdown",
   "id": "a615f32a-0fe1-4a25-812d-0f3a6203e3f4",
   "metadata": {},
   "source": [
    "## Models and/or Methods (4 marks):\n",
    "Model(s) and/or Method(s) are judiciously chosen and appropriately applied. If building on previous work, identify the source and clearly delineate which parts are your own work."
   ]
  },
  {
   "cell_type": "markdown",
   "id": "acd8259d-b37c-4bfc-b8d0-ba3a1b1ca35e",
   "metadata": {},
   "source": [
    "## Results (3 marks):\n",
    "Results are clearly shown, discussed, evaluated using appropriate metrics. Good use of graphs or other visualizations, where possible. Comparison with previous methods/SOTA, where appropriate."
   ]
  },
  {
   "cell_type": "markdown",
   "id": "a1c8a3c5-3be1-4421-901e-7c9b7aeed382",
   "metadata": {},
   "source": [
    "## Discussion (3 marks):\n",
    "Discuss the results and analysis, provide some insight about system performance, including strengths, weaknesses, limitations and possible future work."
   ]
  },
  {
   "cell_type": "markdown",
   "id": "fd51fb24-b11f-41a4-a251-239790f8b995",
   "metadata": {},
   "source": [
    "## Writing (3 marks):\n",
    "Notebook(s) are presented in a readable format, appropriate section/subsection headings are provided in markdown format, codebase is easy to follow."
   ]
  },
  {
   "cell_type": "markdown",
   "id": "ba73e890-6311-4cc6-a5f5-4b2fc52bcfe8",
   "metadata": {},
   "source": [
    "## Acknowledgements\n",
    "Thanks to [this](https://www.kaggle.com/code/dmitrybabko/speech-emotion-recognition-conv1d) notebook which helped me start writing my own notebook and verbalize my thoughts."
   ]
  }
 ],
 "metadata": {
  "kernelspec": {
   "display_name": "Python 3 (ipykernel)",
   "language": "python",
   "name": "python3"
  },
  "language_info": {
   "codemirror_mode": {
    "name": "ipython",
    "version": 3
   },
   "file_extension": ".py",
   "mimetype": "text/x-python",
   "name": "python",
   "nbconvert_exporter": "python",
   "pygments_lexer": "ipython3",
   "version": "3.11.4"
  }
 },
 "nbformat": 4,
 "nbformat_minor": 5
}
